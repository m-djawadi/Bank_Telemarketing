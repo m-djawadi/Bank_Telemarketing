{
  "nbformat": 4,
  "nbformat_minor": 0,
  "metadata": {
    "colab": {
      "provenance": [],
      "collapsed_sections": []
    },
    "kernelspec": {
      "name": "python3",
      "display_name": "Python 3"
    }
  },
  "cells": [
    {
      "cell_type": "code",
      "metadata": {
        "id": "z3kPS2_g34eW",
        "outputId": "bf43d277-0cda-4d5d-f567-21c0fc3c34ad",
        "colab": {
          "base_uri": "https://localhost:8080/",
          "height": 81
        }
      },
      "source": [
        "import pandas as pd\n",
        "import numpy as np\n",
        "import matplotlib.pyplot as plt\n",
        "%matplotlib inline\n",
        "from sklearn.model_selection import train_test_split\n",
        "from sklearn.metrics import classification_report, confusion_matrix\n",
        "\n",
        "import copy\n",
        "from keras.models import Sequential\n",
        "from keras.layers import Dense\n",
        "from keras.layers import LSTM\n",
        "from keras.layers.normalization import BatchNormalization\n",
        "from keras.callbacks import ModelCheckpoint\n",
        "#from sklearn.model_selection import train_test_split\n",
        "#from keras.utils.np_utils import to_categorical\n",
        "from keras.layers import LeakyReLU\n",
        "from keras.layers.normalization import BatchNormalization\n",
        "from keras.layers import Activation"
      ],
      "execution_count": null,
      "outputs": [
        {
          "output_type": "stream",
          "text": [
            "Using TensorFlow backend.\n"
          ],
          "name": "stderr"
        },
        {
          "output_type": "display_data",
          "data": {
            "text/html": [
              "<p style=\"color: red;\">\n",
              "The default version of TensorFlow in Colab will soon switch to TensorFlow 2.x.<br>\n",
              "We recommend you <a href=\"https://www.tensorflow.org/guide/migrate\" target=\"_blank\">upgrade</a> now \n",
              "or ensure your notebook will continue to use TensorFlow 1.x via the <code>%tensorflow_version 1.x</code> magic:\n",
              "<a href=\"https://colab.research.google.com/notebooks/tensorflow_version.ipynb\" target=\"_blank\">more info</a>.</p>\n"
            ],
            "text/plain": [
              "<IPython.core.display.HTML object>"
            ]
          },
          "metadata": {
            "tags": []
          }
        }
      ]
    },
    {
      "cell_type": "code",
      "metadata": {
        "id": "YTpyVerS4A8X",
        "outputId": "d2eacbe4-40ed-4465-8b7f-03045fb906b9",
        "colab": {
          "base_uri": "https://localhost:8080/",
          "height": 123
        }
      },
      "source": [
        "from google.colab import drive \n",
        "drive.mount('/content/gdrive')"
      ],
      "execution_count": null,
      "outputs": [
        {
          "output_type": "stream",
          "text": [
            "Go to this URL in a browser: https://accounts.google.com/o/oauth2/auth?client_id=947318989803-6bn6qk8qdgf4n4g3pfee6491hc0brc4i.apps.googleusercontent.com&redirect_uri=urn%3Aietf%3Awg%3Aoauth%3A2.0%3Aoob&scope=email%20https%3A%2F%2Fwww.googleapis.com%2Fauth%2Fdocs.test%20https%3A%2F%2Fwww.googleapis.com%2Fauth%2Fdrive%20https%3A%2F%2Fwww.googleapis.com%2Fauth%2Fdrive.photos.readonly%20https%3A%2F%2Fwww.googleapis.com%2Fauth%2Fpeopleapi.readonly&response_type=code\n",
            "\n",
            "Enter your authorization code:\n",
            "··········\n",
            "Mounted at /content/gdrive\n"
          ],
          "name": "stdout"
        }
      ]
    },
    {
      "cell_type": "code",
      "metadata": {
        "id": "uNb6a38e4Bp7"
      },
      "source": [
        "data=pd.read_csv('gdrive/My Drive/bank-additional-full.csv')"
      ],
      "execution_count": null,
      "outputs": []
    },
    {
      "cell_type": "code",
      "metadata": {
        "id": "s2GxbE3u4Bn9",
        "outputId": "f0111b09-992d-49f5-ef37-882047c7db84",
        "colab": {
          "base_uri": "https://localhost:8080/",
          "height": 222
        }
      },
      "source": [
        "data.head()"
      ],
      "execution_count": null,
      "outputs": [
        {
          "output_type": "execute_result",
          "data": {
            "text/html": [
              "<div>\n",
              "<style scoped>\n",
              "    .dataframe tbody tr th:only-of-type {\n",
              "        vertical-align: middle;\n",
              "    }\n",
              "\n",
              "    .dataframe tbody tr th {\n",
              "        vertical-align: top;\n",
              "    }\n",
              "\n",
              "    .dataframe thead th {\n",
              "        text-align: right;\n",
              "    }\n",
              "</style>\n",
              "<table border=\"1\" class=\"dataframe\">\n",
              "  <thead>\n",
              "    <tr style=\"text-align: right;\">\n",
              "      <th></th>\n",
              "      <th>age</th>\n",
              "      <th>job</th>\n",
              "      <th>marital</th>\n",
              "      <th>education</th>\n",
              "      <th>default</th>\n",
              "      <th>housing</th>\n",
              "      <th>loan</th>\n",
              "      <th>contact</th>\n",
              "      <th>month</th>\n",
              "      <th>day_of_week</th>\n",
              "      <th>duration</th>\n",
              "      <th>campaign</th>\n",
              "      <th>pdays</th>\n",
              "      <th>previous</th>\n",
              "      <th>poutcome</th>\n",
              "      <th>emp.var.rate</th>\n",
              "      <th>cons.price.idx</th>\n",
              "      <th>cons.conf.idx</th>\n",
              "      <th>euribor3m</th>\n",
              "      <th>nr.employed</th>\n",
              "      <th>y</th>\n",
              "    </tr>\n",
              "  </thead>\n",
              "  <tbody>\n",
              "    <tr>\n",
              "      <th>0</th>\n",
              "      <td>56</td>\n",
              "      <td>housemaid</td>\n",
              "      <td>married</td>\n",
              "      <td>basic.4y</td>\n",
              "      <td>no</td>\n",
              "      <td>no</td>\n",
              "      <td>no</td>\n",
              "      <td>telephone</td>\n",
              "      <td>may</td>\n",
              "      <td>mon</td>\n",
              "      <td>261</td>\n",
              "      <td>1</td>\n",
              "      <td>999</td>\n",
              "      <td>0</td>\n",
              "      <td>nonexistent</td>\n",
              "      <td>1.1</td>\n",
              "      <td>93.994</td>\n",
              "      <td>-36.4</td>\n",
              "      <td>4.857</td>\n",
              "      <td>5191.0</td>\n",
              "      <td>no</td>\n",
              "    </tr>\n",
              "    <tr>\n",
              "      <th>1</th>\n",
              "      <td>57</td>\n",
              "      <td>services</td>\n",
              "      <td>married</td>\n",
              "      <td>high.school</td>\n",
              "      <td>unknown</td>\n",
              "      <td>no</td>\n",
              "      <td>no</td>\n",
              "      <td>telephone</td>\n",
              "      <td>may</td>\n",
              "      <td>mon</td>\n",
              "      <td>149</td>\n",
              "      <td>1</td>\n",
              "      <td>999</td>\n",
              "      <td>0</td>\n",
              "      <td>nonexistent</td>\n",
              "      <td>1.1</td>\n",
              "      <td>93.994</td>\n",
              "      <td>-36.4</td>\n",
              "      <td>4.857</td>\n",
              "      <td>5191.0</td>\n",
              "      <td>no</td>\n",
              "    </tr>\n",
              "    <tr>\n",
              "      <th>2</th>\n",
              "      <td>37</td>\n",
              "      <td>services</td>\n",
              "      <td>married</td>\n",
              "      <td>high.school</td>\n",
              "      <td>no</td>\n",
              "      <td>yes</td>\n",
              "      <td>no</td>\n",
              "      <td>telephone</td>\n",
              "      <td>may</td>\n",
              "      <td>mon</td>\n",
              "      <td>226</td>\n",
              "      <td>1</td>\n",
              "      <td>999</td>\n",
              "      <td>0</td>\n",
              "      <td>nonexistent</td>\n",
              "      <td>1.1</td>\n",
              "      <td>93.994</td>\n",
              "      <td>-36.4</td>\n",
              "      <td>4.857</td>\n",
              "      <td>5191.0</td>\n",
              "      <td>no</td>\n",
              "    </tr>\n",
              "    <tr>\n",
              "      <th>3</th>\n",
              "      <td>40</td>\n",
              "      <td>admin.</td>\n",
              "      <td>married</td>\n",
              "      <td>basic.6y</td>\n",
              "      <td>no</td>\n",
              "      <td>no</td>\n",
              "      <td>no</td>\n",
              "      <td>telephone</td>\n",
              "      <td>may</td>\n",
              "      <td>mon</td>\n",
              "      <td>151</td>\n",
              "      <td>1</td>\n",
              "      <td>999</td>\n",
              "      <td>0</td>\n",
              "      <td>nonexistent</td>\n",
              "      <td>1.1</td>\n",
              "      <td>93.994</td>\n",
              "      <td>-36.4</td>\n",
              "      <td>4.857</td>\n",
              "      <td>5191.0</td>\n",
              "      <td>no</td>\n",
              "    </tr>\n",
              "    <tr>\n",
              "      <th>4</th>\n",
              "      <td>56</td>\n",
              "      <td>services</td>\n",
              "      <td>married</td>\n",
              "      <td>high.school</td>\n",
              "      <td>no</td>\n",
              "      <td>no</td>\n",
              "      <td>yes</td>\n",
              "      <td>telephone</td>\n",
              "      <td>may</td>\n",
              "      <td>mon</td>\n",
              "      <td>307</td>\n",
              "      <td>1</td>\n",
              "      <td>999</td>\n",
              "      <td>0</td>\n",
              "      <td>nonexistent</td>\n",
              "      <td>1.1</td>\n",
              "      <td>93.994</td>\n",
              "      <td>-36.4</td>\n",
              "      <td>4.857</td>\n",
              "      <td>5191.0</td>\n",
              "      <td>no</td>\n",
              "    </tr>\n",
              "  </tbody>\n",
              "</table>\n",
              "</div>"
            ],
            "text/plain": [
              "   age        job  marital  ... euribor3m nr.employed   y\n",
              "0   56  housemaid  married  ...     4.857      5191.0  no\n",
              "1   57   services  married  ...     4.857      5191.0  no\n",
              "2   37   services  married  ...     4.857      5191.0  no\n",
              "3   40     admin.  married  ...     4.857      5191.0  no\n",
              "4   56   services  married  ...     4.857      5191.0  no\n",
              "\n",
              "[5 rows x 21 columns]"
            ]
          },
          "metadata": {
            "tags": []
          },
          "execution_count": 5
        }
      ]
    },
    {
      "cell_type": "markdown",
      "metadata": {
        "id": "fS1j4w1la9OX"
      },
      "source": [
        "this attribute highly affects the output target (e.g., if duration=0 then y='no'). Yet, the duration is not known before a call is performed. Also, after the end of the call y is obviously known. Thus, this input should only be included for benchmark purposes and should be discarded if the intention is to have a realistic predictive model."
      ]
    },
    {
      "cell_type": "code",
      "metadata": {
        "id": "7Ju8QU-katqy",
        "outputId": "85b9c520-f39d-4cf3-b9c7-ee0c096343e8",
        "colab": {
          "base_uri": "https://localhost:8080/",
          "height": 435
        }
      },
      "source": [
        "data.drop(['duration'], axis=1)"
      ],
      "execution_count": null,
      "outputs": [
        {
          "output_type": "execute_result",
          "data": {
            "text/html": [
              "<div>\n",
              "<style scoped>\n",
              "    .dataframe tbody tr th:only-of-type {\n",
              "        vertical-align: middle;\n",
              "    }\n",
              "\n",
              "    .dataframe tbody tr th {\n",
              "        vertical-align: top;\n",
              "    }\n",
              "\n",
              "    .dataframe thead th {\n",
              "        text-align: right;\n",
              "    }\n",
              "</style>\n",
              "<table border=\"1\" class=\"dataframe\">\n",
              "  <thead>\n",
              "    <tr style=\"text-align: right;\">\n",
              "      <th></th>\n",
              "      <th>age</th>\n",
              "      <th>job</th>\n",
              "      <th>marital</th>\n",
              "      <th>education</th>\n",
              "      <th>default</th>\n",
              "      <th>housing</th>\n",
              "      <th>loan</th>\n",
              "      <th>contact</th>\n",
              "      <th>month</th>\n",
              "      <th>day_of_week</th>\n",
              "      <th>campaign</th>\n",
              "      <th>pdays</th>\n",
              "      <th>previous</th>\n",
              "      <th>poutcome</th>\n",
              "      <th>emp.var.rate</th>\n",
              "      <th>cons.price.idx</th>\n",
              "      <th>cons.conf.idx</th>\n",
              "      <th>euribor3m</th>\n",
              "      <th>nr.employed</th>\n",
              "      <th>y</th>\n",
              "    </tr>\n",
              "  </thead>\n",
              "  <tbody>\n",
              "    <tr>\n",
              "      <th>0</th>\n",
              "      <td>56</td>\n",
              "      <td>housemaid</td>\n",
              "      <td>married</td>\n",
              "      <td>basic.4y</td>\n",
              "      <td>no</td>\n",
              "      <td>no</td>\n",
              "      <td>no</td>\n",
              "      <td>telephone</td>\n",
              "      <td>may</td>\n",
              "      <td>mon</td>\n",
              "      <td>1</td>\n",
              "      <td>999</td>\n",
              "      <td>0</td>\n",
              "      <td>nonexistent</td>\n",
              "      <td>1.1</td>\n",
              "      <td>93.994</td>\n",
              "      <td>-36.4</td>\n",
              "      <td>4.857</td>\n",
              "      <td>5191.0</td>\n",
              "      <td>no</td>\n",
              "    </tr>\n",
              "    <tr>\n",
              "      <th>1</th>\n",
              "      <td>57</td>\n",
              "      <td>services</td>\n",
              "      <td>married</td>\n",
              "      <td>high.school</td>\n",
              "      <td>unknown</td>\n",
              "      <td>no</td>\n",
              "      <td>no</td>\n",
              "      <td>telephone</td>\n",
              "      <td>may</td>\n",
              "      <td>mon</td>\n",
              "      <td>1</td>\n",
              "      <td>999</td>\n",
              "      <td>0</td>\n",
              "      <td>nonexistent</td>\n",
              "      <td>1.1</td>\n",
              "      <td>93.994</td>\n",
              "      <td>-36.4</td>\n",
              "      <td>4.857</td>\n",
              "      <td>5191.0</td>\n",
              "      <td>no</td>\n",
              "    </tr>\n",
              "    <tr>\n",
              "      <th>2</th>\n",
              "      <td>37</td>\n",
              "      <td>services</td>\n",
              "      <td>married</td>\n",
              "      <td>high.school</td>\n",
              "      <td>no</td>\n",
              "      <td>yes</td>\n",
              "      <td>no</td>\n",
              "      <td>telephone</td>\n",
              "      <td>may</td>\n",
              "      <td>mon</td>\n",
              "      <td>1</td>\n",
              "      <td>999</td>\n",
              "      <td>0</td>\n",
              "      <td>nonexistent</td>\n",
              "      <td>1.1</td>\n",
              "      <td>93.994</td>\n",
              "      <td>-36.4</td>\n",
              "      <td>4.857</td>\n",
              "      <td>5191.0</td>\n",
              "      <td>no</td>\n",
              "    </tr>\n",
              "    <tr>\n",
              "      <th>3</th>\n",
              "      <td>40</td>\n",
              "      <td>admin.</td>\n",
              "      <td>married</td>\n",
              "      <td>basic.6y</td>\n",
              "      <td>no</td>\n",
              "      <td>no</td>\n",
              "      <td>no</td>\n",
              "      <td>telephone</td>\n",
              "      <td>may</td>\n",
              "      <td>mon</td>\n",
              "      <td>1</td>\n",
              "      <td>999</td>\n",
              "      <td>0</td>\n",
              "      <td>nonexistent</td>\n",
              "      <td>1.1</td>\n",
              "      <td>93.994</td>\n",
              "      <td>-36.4</td>\n",
              "      <td>4.857</td>\n",
              "      <td>5191.0</td>\n",
              "      <td>no</td>\n",
              "    </tr>\n",
              "    <tr>\n",
              "      <th>4</th>\n",
              "      <td>56</td>\n",
              "      <td>services</td>\n",
              "      <td>married</td>\n",
              "      <td>high.school</td>\n",
              "      <td>no</td>\n",
              "      <td>no</td>\n",
              "      <td>yes</td>\n",
              "      <td>telephone</td>\n",
              "      <td>may</td>\n",
              "      <td>mon</td>\n",
              "      <td>1</td>\n",
              "      <td>999</td>\n",
              "      <td>0</td>\n",
              "      <td>nonexistent</td>\n",
              "      <td>1.1</td>\n",
              "      <td>93.994</td>\n",
              "      <td>-36.4</td>\n",
              "      <td>4.857</td>\n",
              "      <td>5191.0</td>\n",
              "      <td>no</td>\n",
              "    </tr>\n",
              "    <tr>\n",
              "      <th>...</th>\n",
              "      <td>...</td>\n",
              "      <td>...</td>\n",
              "      <td>...</td>\n",
              "      <td>...</td>\n",
              "      <td>...</td>\n",
              "      <td>...</td>\n",
              "      <td>...</td>\n",
              "      <td>...</td>\n",
              "      <td>...</td>\n",
              "      <td>...</td>\n",
              "      <td>...</td>\n",
              "      <td>...</td>\n",
              "      <td>...</td>\n",
              "      <td>...</td>\n",
              "      <td>...</td>\n",
              "      <td>...</td>\n",
              "      <td>...</td>\n",
              "      <td>...</td>\n",
              "      <td>...</td>\n",
              "      <td>...</td>\n",
              "    </tr>\n",
              "    <tr>\n",
              "      <th>41183</th>\n",
              "      <td>73</td>\n",
              "      <td>retired</td>\n",
              "      <td>married</td>\n",
              "      <td>professional.course</td>\n",
              "      <td>no</td>\n",
              "      <td>yes</td>\n",
              "      <td>no</td>\n",
              "      <td>cellular</td>\n",
              "      <td>nov</td>\n",
              "      <td>fri</td>\n",
              "      <td>1</td>\n",
              "      <td>999</td>\n",
              "      <td>0</td>\n",
              "      <td>nonexistent</td>\n",
              "      <td>-1.1</td>\n",
              "      <td>94.767</td>\n",
              "      <td>-50.8</td>\n",
              "      <td>1.028</td>\n",
              "      <td>4963.6</td>\n",
              "      <td>yes</td>\n",
              "    </tr>\n",
              "    <tr>\n",
              "      <th>41184</th>\n",
              "      <td>46</td>\n",
              "      <td>blue-collar</td>\n",
              "      <td>married</td>\n",
              "      <td>professional.course</td>\n",
              "      <td>no</td>\n",
              "      <td>no</td>\n",
              "      <td>no</td>\n",
              "      <td>cellular</td>\n",
              "      <td>nov</td>\n",
              "      <td>fri</td>\n",
              "      <td>1</td>\n",
              "      <td>999</td>\n",
              "      <td>0</td>\n",
              "      <td>nonexistent</td>\n",
              "      <td>-1.1</td>\n",
              "      <td>94.767</td>\n",
              "      <td>-50.8</td>\n",
              "      <td>1.028</td>\n",
              "      <td>4963.6</td>\n",
              "      <td>no</td>\n",
              "    </tr>\n",
              "    <tr>\n",
              "      <th>41185</th>\n",
              "      <td>56</td>\n",
              "      <td>retired</td>\n",
              "      <td>married</td>\n",
              "      <td>university.degree</td>\n",
              "      <td>no</td>\n",
              "      <td>yes</td>\n",
              "      <td>no</td>\n",
              "      <td>cellular</td>\n",
              "      <td>nov</td>\n",
              "      <td>fri</td>\n",
              "      <td>2</td>\n",
              "      <td>999</td>\n",
              "      <td>0</td>\n",
              "      <td>nonexistent</td>\n",
              "      <td>-1.1</td>\n",
              "      <td>94.767</td>\n",
              "      <td>-50.8</td>\n",
              "      <td>1.028</td>\n",
              "      <td>4963.6</td>\n",
              "      <td>no</td>\n",
              "    </tr>\n",
              "    <tr>\n",
              "      <th>41186</th>\n",
              "      <td>44</td>\n",
              "      <td>technician</td>\n",
              "      <td>married</td>\n",
              "      <td>professional.course</td>\n",
              "      <td>no</td>\n",
              "      <td>no</td>\n",
              "      <td>no</td>\n",
              "      <td>cellular</td>\n",
              "      <td>nov</td>\n",
              "      <td>fri</td>\n",
              "      <td>1</td>\n",
              "      <td>999</td>\n",
              "      <td>0</td>\n",
              "      <td>nonexistent</td>\n",
              "      <td>-1.1</td>\n",
              "      <td>94.767</td>\n",
              "      <td>-50.8</td>\n",
              "      <td>1.028</td>\n",
              "      <td>4963.6</td>\n",
              "      <td>yes</td>\n",
              "    </tr>\n",
              "    <tr>\n",
              "      <th>41187</th>\n",
              "      <td>74</td>\n",
              "      <td>retired</td>\n",
              "      <td>married</td>\n",
              "      <td>professional.course</td>\n",
              "      <td>no</td>\n",
              "      <td>yes</td>\n",
              "      <td>no</td>\n",
              "      <td>cellular</td>\n",
              "      <td>nov</td>\n",
              "      <td>fri</td>\n",
              "      <td>3</td>\n",
              "      <td>999</td>\n",
              "      <td>1</td>\n",
              "      <td>failure</td>\n",
              "      <td>-1.1</td>\n",
              "      <td>94.767</td>\n",
              "      <td>-50.8</td>\n",
              "      <td>1.028</td>\n",
              "      <td>4963.6</td>\n",
              "      <td>no</td>\n",
              "    </tr>\n",
              "  </tbody>\n",
              "</table>\n",
              "<p>41188 rows × 20 columns</p>\n",
              "</div>"
            ],
            "text/plain": [
              "       age          job  marital  ... euribor3m nr.employed    y\n",
              "0       56    housemaid  married  ...     4.857      5191.0   no\n",
              "1       57     services  married  ...     4.857      5191.0   no\n",
              "2       37     services  married  ...     4.857      5191.0   no\n",
              "3       40       admin.  married  ...     4.857      5191.0   no\n",
              "4       56     services  married  ...     4.857      5191.0   no\n",
              "...    ...          ...      ...  ...       ...         ...  ...\n",
              "41183   73      retired  married  ...     1.028      4963.6  yes\n",
              "41184   46  blue-collar  married  ...     1.028      4963.6   no\n",
              "41185   56      retired  married  ...     1.028      4963.6   no\n",
              "41186   44   technician  married  ...     1.028      4963.6  yes\n",
              "41187   74      retired  married  ...     1.028      4963.6   no\n",
              "\n",
              "[41188 rows x 20 columns]"
            ]
          },
          "metadata": {
            "tags": []
          },
          "execution_count": 9
        }
      ]
    },
    {
      "cell_type": "code",
      "metadata": {
        "id": "ahh9wL-Z62ox",
        "outputId": "b21377fe-939c-478c-c44b-95cc94f49c39",
        "colab": {
          "base_uri": "https://localhost:8080/",
          "height": 259
        }
      },
      "source": [
        "from sklearn import preprocessing\n",
        "le = preprocessing.LabelEncoder()\n",
        "data_encoded = data.apply(le.fit_transform)\n",
        "print(data_encoded) "
      ],
      "execution_count": null,
      "outputs": [
        {
          "output_type": "stream",
          "text": [
            "       age  job  marital  education  ...  cons.conf.idx  euribor3m  nr.employed  y\n",
            "0       39    3        1          0  ...             16        287            8  0\n",
            "1       40    7        1          3  ...             16        287            8  0\n",
            "2       20    7        1          3  ...             16        287            8  0\n",
            "3       23    0        1          1  ...             16        287            8  0\n",
            "4       39    7        1          3  ...             16        287            8  0\n",
            "...    ...  ...      ...        ...  ...            ...        ...          ... ..\n",
            "41183   56    5        1          5  ...              0        171            0  1\n",
            "41184   29    1        1          5  ...              0        171            0  0\n",
            "41185   39    5        1          6  ...              0        171            0  0\n",
            "41186   27    9        1          5  ...              0        171            0  1\n",
            "41187   57    5        1          5  ...              0        171            0  0\n",
            "\n",
            "[41188 rows x 21 columns]\n"
          ],
          "name": "stdout"
        }
      ]
    },
    {
      "cell_type": "code",
      "metadata": {
        "id": "X4vEZ_xO68L2",
        "outputId": "2a2593bd-e52e-49bf-eef2-006e48032fb3",
        "colab": {
          "base_uri": "https://localhost:8080/",
          "height": 222
        }
      },
      "source": [
        "data_encoded.head()"
      ],
      "execution_count": null,
      "outputs": [
        {
          "output_type": "execute_result",
          "data": {
            "text/html": [
              "<div>\n",
              "<style scoped>\n",
              "    .dataframe tbody tr th:only-of-type {\n",
              "        vertical-align: middle;\n",
              "    }\n",
              "\n",
              "    .dataframe tbody tr th {\n",
              "        vertical-align: top;\n",
              "    }\n",
              "\n",
              "    .dataframe thead th {\n",
              "        text-align: right;\n",
              "    }\n",
              "</style>\n",
              "<table border=\"1\" class=\"dataframe\">\n",
              "  <thead>\n",
              "    <tr style=\"text-align: right;\">\n",
              "      <th></th>\n",
              "      <th>age</th>\n",
              "      <th>job</th>\n",
              "      <th>marital</th>\n",
              "      <th>education</th>\n",
              "      <th>default</th>\n",
              "      <th>housing</th>\n",
              "      <th>loan</th>\n",
              "      <th>contact</th>\n",
              "      <th>month</th>\n",
              "      <th>day_of_week</th>\n",
              "      <th>duration</th>\n",
              "      <th>campaign</th>\n",
              "      <th>pdays</th>\n",
              "      <th>previous</th>\n",
              "      <th>poutcome</th>\n",
              "      <th>emp.var.rate</th>\n",
              "      <th>cons.price.idx</th>\n",
              "      <th>cons.conf.idx</th>\n",
              "      <th>euribor3m</th>\n",
              "      <th>nr.employed</th>\n",
              "      <th>y</th>\n",
              "    </tr>\n",
              "  </thead>\n",
              "  <tbody>\n",
              "    <tr>\n",
              "      <th>0</th>\n",
              "      <td>39</td>\n",
              "      <td>3</td>\n",
              "      <td>1</td>\n",
              "      <td>0</td>\n",
              "      <td>0</td>\n",
              "      <td>0</td>\n",
              "      <td>0</td>\n",
              "      <td>1</td>\n",
              "      <td>6</td>\n",
              "      <td>1</td>\n",
              "      <td>261</td>\n",
              "      <td>0</td>\n",
              "      <td>26</td>\n",
              "      <td>0</td>\n",
              "      <td>1</td>\n",
              "      <td>8</td>\n",
              "      <td>18</td>\n",
              "      <td>16</td>\n",
              "      <td>287</td>\n",
              "      <td>8</td>\n",
              "      <td>0</td>\n",
              "    </tr>\n",
              "    <tr>\n",
              "      <th>1</th>\n",
              "      <td>40</td>\n",
              "      <td>7</td>\n",
              "      <td>1</td>\n",
              "      <td>3</td>\n",
              "      <td>1</td>\n",
              "      <td>0</td>\n",
              "      <td>0</td>\n",
              "      <td>1</td>\n",
              "      <td>6</td>\n",
              "      <td>1</td>\n",
              "      <td>149</td>\n",
              "      <td>0</td>\n",
              "      <td>26</td>\n",
              "      <td>0</td>\n",
              "      <td>1</td>\n",
              "      <td>8</td>\n",
              "      <td>18</td>\n",
              "      <td>16</td>\n",
              "      <td>287</td>\n",
              "      <td>8</td>\n",
              "      <td>0</td>\n",
              "    </tr>\n",
              "    <tr>\n",
              "      <th>2</th>\n",
              "      <td>20</td>\n",
              "      <td>7</td>\n",
              "      <td>1</td>\n",
              "      <td>3</td>\n",
              "      <td>0</td>\n",
              "      <td>2</td>\n",
              "      <td>0</td>\n",
              "      <td>1</td>\n",
              "      <td>6</td>\n",
              "      <td>1</td>\n",
              "      <td>226</td>\n",
              "      <td>0</td>\n",
              "      <td>26</td>\n",
              "      <td>0</td>\n",
              "      <td>1</td>\n",
              "      <td>8</td>\n",
              "      <td>18</td>\n",
              "      <td>16</td>\n",
              "      <td>287</td>\n",
              "      <td>8</td>\n",
              "      <td>0</td>\n",
              "    </tr>\n",
              "    <tr>\n",
              "      <th>3</th>\n",
              "      <td>23</td>\n",
              "      <td>0</td>\n",
              "      <td>1</td>\n",
              "      <td>1</td>\n",
              "      <td>0</td>\n",
              "      <td>0</td>\n",
              "      <td>0</td>\n",
              "      <td>1</td>\n",
              "      <td>6</td>\n",
              "      <td>1</td>\n",
              "      <td>151</td>\n",
              "      <td>0</td>\n",
              "      <td>26</td>\n",
              "      <td>0</td>\n",
              "      <td>1</td>\n",
              "      <td>8</td>\n",
              "      <td>18</td>\n",
              "      <td>16</td>\n",
              "      <td>287</td>\n",
              "      <td>8</td>\n",
              "      <td>0</td>\n",
              "    </tr>\n",
              "    <tr>\n",
              "      <th>4</th>\n",
              "      <td>39</td>\n",
              "      <td>7</td>\n",
              "      <td>1</td>\n",
              "      <td>3</td>\n",
              "      <td>0</td>\n",
              "      <td>0</td>\n",
              "      <td>2</td>\n",
              "      <td>1</td>\n",
              "      <td>6</td>\n",
              "      <td>1</td>\n",
              "      <td>307</td>\n",
              "      <td>0</td>\n",
              "      <td>26</td>\n",
              "      <td>0</td>\n",
              "      <td>1</td>\n",
              "      <td>8</td>\n",
              "      <td>18</td>\n",
              "      <td>16</td>\n",
              "      <td>287</td>\n",
              "      <td>8</td>\n",
              "      <td>0</td>\n",
              "    </tr>\n",
              "  </tbody>\n",
              "</table>\n",
              "</div>"
            ],
            "text/plain": [
              "   age  job  marital  education  ...  cons.conf.idx  euribor3m  nr.employed  y\n",
              "0   39    3        1          0  ...             16        287            8  0\n",
              "1   40    7        1          3  ...             16        287            8  0\n",
              "2   20    7        1          3  ...             16        287            8  0\n",
              "3   23    0        1          1  ...             16        287            8  0\n",
              "4   39    7        1          3  ...             16        287            8  0\n",
              "\n",
              "[5 rows x 21 columns]"
            ]
          },
          "metadata": {
            "tags": []
          },
          "execution_count": 11
        }
      ]
    },
    {
      "cell_type": "code",
      "metadata": {
        "id": "Nxr6wTpJ4Bk9",
        "outputId": "437a997a-94c2-43be-93c9-14875f5cd071",
        "colab": {
          "base_uri": "https://localhost:8080/",
          "height": 34
        }
      },
      "source": [
        "'''\n",
        "char_cols = data.dtypes.pipe(lambda x: x[x == 'object']).index\n",
        "\n",
        "for c in char_cols:\n",
        "    data[c] = pd.factorize(data[c])[0]\n",
        "    '''"
      ],
      "execution_count": null,
      "outputs": [
        {
          "output_type": "execute_result",
          "data": {
            "text/plain": [
              "\"\\nchar_cols = data.dtypes.pipe(lambda x: x[x == 'object']).index\\n\\nfor c in char_cols:\\n    data[c] = pd.factorize(data[c])[0]\\n    \""
            ]
          },
          "metadata": {
            "tags": []
          },
          "execution_count": 32
        }
      ]
    },
    {
      "cell_type": "code",
      "metadata": {
        "id": "I7zPvF5C4BhT",
        "outputId": "b06eb67a-1ce3-4d61-b083-fadd0be4d2bf",
        "colab": {
          "base_uri": "https://localhost:8080/",
          "height": 34
        }
      },
      "source": [
        "'''\n",
        "char_cols = data.dtypes.pipe(lambda x: x[x == 'object']).index\n",
        "label_mapping = {}\n",
        "\n",
        "for c in char_cols:\n",
        "    data[c], label_mapping[c] = pd.factorize(data[c])\n",
        "\n",
        "  '''"
      ],
      "execution_count": null,
      "outputs": [
        {
          "output_type": "execute_result",
          "data": {
            "text/plain": [
              "\"\\nchar_cols = data.dtypes.pipe(lambda x: x[x == 'object']).index\\nlabel_mapping = {}\\n\\nfor c in char_cols:\\n    data[c], label_mapping[c] = pd.factorize(data[c])\\n\\n  \""
            ]
          },
          "metadata": {
            "tags": []
          },
          "execution_count": 33
        }
      ]
    },
    {
      "cell_type": "code",
      "metadata": {
        "id": "Sh-JdbhJ4JvJ"
      },
      "source": [
        "X = data_encoded.drop('y', axis=1)\n",
        "Y = data_encoded['y']"
      ],
      "execution_count": null,
      "outputs": []
    },
    {
      "cell_type": "code",
      "metadata": {
        "id": "LqTurLlRjkoj",
        "outputId": "9b58eeb5-5e2a-4181-bf45-52f8c82dfad2",
        "colab": {
          "base_uri": "https://localhost:8080/",
          "height": 222
        }
      },
      "source": [
        "X.head()"
      ],
      "execution_count": null,
      "outputs": [
        {
          "output_type": "execute_result",
          "data": {
            "text/html": [
              "<div>\n",
              "<style scoped>\n",
              "    .dataframe tbody tr th:only-of-type {\n",
              "        vertical-align: middle;\n",
              "    }\n",
              "\n",
              "    .dataframe tbody tr th {\n",
              "        vertical-align: top;\n",
              "    }\n",
              "\n",
              "    .dataframe thead th {\n",
              "        text-align: right;\n",
              "    }\n",
              "</style>\n",
              "<table border=\"1\" class=\"dataframe\">\n",
              "  <thead>\n",
              "    <tr style=\"text-align: right;\">\n",
              "      <th></th>\n",
              "      <th>age</th>\n",
              "      <th>job</th>\n",
              "      <th>marital</th>\n",
              "      <th>education</th>\n",
              "      <th>default</th>\n",
              "      <th>housing</th>\n",
              "      <th>loan</th>\n",
              "      <th>contact</th>\n",
              "      <th>month</th>\n",
              "      <th>day_of_week</th>\n",
              "      <th>duration</th>\n",
              "      <th>campaign</th>\n",
              "      <th>pdays</th>\n",
              "      <th>previous</th>\n",
              "      <th>poutcome</th>\n",
              "      <th>emp.var.rate</th>\n",
              "      <th>cons.price.idx</th>\n",
              "      <th>cons.conf.idx</th>\n",
              "      <th>euribor3m</th>\n",
              "      <th>nr.employed</th>\n",
              "    </tr>\n",
              "  </thead>\n",
              "  <tbody>\n",
              "    <tr>\n",
              "      <th>0</th>\n",
              "      <td>39</td>\n",
              "      <td>3</td>\n",
              "      <td>1</td>\n",
              "      <td>0</td>\n",
              "      <td>0</td>\n",
              "      <td>0</td>\n",
              "      <td>0</td>\n",
              "      <td>1</td>\n",
              "      <td>6</td>\n",
              "      <td>1</td>\n",
              "      <td>261</td>\n",
              "      <td>0</td>\n",
              "      <td>26</td>\n",
              "      <td>0</td>\n",
              "      <td>1</td>\n",
              "      <td>8</td>\n",
              "      <td>18</td>\n",
              "      <td>16</td>\n",
              "      <td>287</td>\n",
              "      <td>8</td>\n",
              "    </tr>\n",
              "    <tr>\n",
              "      <th>1</th>\n",
              "      <td>40</td>\n",
              "      <td>7</td>\n",
              "      <td>1</td>\n",
              "      <td>3</td>\n",
              "      <td>1</td>\n",
              "      <td>0</td>\n",
              "      <td>0</td>\n",
              "      <td>1</td>\n",
              "      <td>6</td>\n",
              "      <td>1</td>\n",
              "      <td>149</td>\n",
              "      <td>0</td>\n",
              "      <td>26</td>\n",
              "      <td>0</td>\n",
              "      <td>1</td>\n",
              "      <td>8</td>\n",
              "      <td>18</td>\n",
              "      <td>16</td>\n",
              "      <td>287</td>\n",
              "      <td>8</td>\n",
              "    </tr>\n",
              "    <tr>\n",
              "      <th>2</th>\n",
              "      <td>20</td>\n",
              "      <td>7</td>\n",
              "      <td>1</td>\n",
              "      <td>3</td>\n",
              "      <td>0</td>\n",
              "      <td>2</td>\n",
              "      <td>0</td>\n",
              "      <td>1</td>\n",
              "      <td>6</td>\n",
              "      <td>1</td>\n",
              "      <td>226</td>\n",
              "      <td>0</td>\n",
              "      <td>26</td>\n",
              "      <td>0</td>\n",
              "      <td>1</td>\n",
              "      <td>8</td>\n",
              "      <td>18</td>\n",
              "      <td>16</td>\n",
              "      <td>287</td>\n",
              "      <td>8</td>\n",
              "    </tr>\n",
              "    <tr>\n",
              "      <th>3</th>\n",
              "      <td>23</td>\n",
              "      <td>0</td>\n",
              "      <td>1</td>\n",
              "      <td>1</td>\n",
              "      <td>0</td>\n",
              "      <td>0</td>\n",
              "      <td>0</td>\n",
              "      <td>1</td>\n",
              "      <td>6</td>\n",
              "      <td>1</td>\n",
              "      <td>151</td>\n",
              "      <td>0</td>\n",
              "      <td>26</td>\n",
              "      <td>0</td>\n",
              "      <td>1</td>\n",
              "      <td>8</td>\n",
              "      <td>18</td>\n",
              "      <td>16</td>\n",
              "      <td>287</td>\n",
              "      <td>8</td>\n",
              "    </tr>\n",
              "    <tr>\n",
              "      <th>4</th>\n",
              "      <td>39</td>\n",
              "      <td>7</td>\n",
              "      <td>1</td>\n",
              "      <td>3</td>\n",
              "      <td>0</td>\n",
              "      <td>0</td>\n",
              "      <td>2</td>\n",
              "      <td>1</td>\n",
              "      <td>6</td>\n",
              "      <td>1</td>\n",
              "      <td>307</td>\n",
              "      <td>0</td>\n",
              "      <td>26</td>\n",
              "      <td>0</td>\n",
              "      <td>1</td>\n",
              "      <td>8</td>\n",
              "      <td>18</td>\n",
              "      <td>16</td>\n",
              "      <td>287</td>\n",
              "      <td>8</td>\n",
              "    </tr>\n",
              "  </tbody>\n",
              "</table>\n",
              "</div>"
            ],
            "text/plain": [
              "   age  job  marital  ...  cons.conf.idx  euribor3m  nr.employed\n",
              "0   39    3        1  ...             16        287            8\n",
              "1   40    7        1  ...             16        287            8\n",
              "2   20    7        1  ...             16        287            8\n",
              "3   23    0        1  ...             16        287            8\n",
              "4   39    7        1  ...             16        287            8\n",
              "\n",
              "[5 rows x 20 columns]"
            ]
          },
          "metadata": {
            "tags": []
          },
          "execution_count": 13
        }
      ]
    },
    {
      "cell_type": "code",
      "metadata": {
        "id": "CY1jvBNgjmd7",
        "outputId": "6bf2ef2d-a5aa-4a96-f04e-4cf1e11e3ade",
        "colab": {
          "base_uri": "https://localhost:8080/",
          "height": 121
        }
      },
      "source": [
        "Y.head()"
      ],
      "execution_count": null,
      "outputs": [
        {
          "output_type": "execute_result",
          "data": {
            "text/plain": [
              "0    0\n",
              "1    0\n",
              "2    0\n",
              "3    0\n",
              "4    0\n",
              "Name: y, dtype: int64"
            ]
          },
          "metadata": {
            "tags": []
          },
          "execution_count": 14
        }
      ]
    },
    {
      "cell_type": "code",
      "metadata": {
        "id": "qo-UIGXY4JyA"
      },
      "source": [
        "df=np.array(X) \n",
        "target=np.array(Y) "
      ],
      "execution_count": null,
      "outputs": []
    },
    {
      "cell_type": "code",
      "metadata": {
        "id": "9UQZJ9ib4J06"
      },
      "source": [
        "####We can define these data as a matrix of 20 columns with 41188 rows:\n",
        "#data = data.reshape(1, 41188, 20)"
      ],
      "execution_count": null,
      "outputs": []
    },
    {
      "cell_type": "code",
      "metadata": {
        "id": "gssGrWzh4J30",
        "outputId": "7e35624e-a0a2-4177-878b-99ccd627158e",
        "colab": {
          "base_uri": "https://localhost:8080/",
          "height": 34
        }
      },
      "source": [
        "df.shape  "
      ],
      "execution_count": null,
      "outputs": [
        {
          "output_type": "execute_result",
          "data": {
            "text/plain": [
              "(41188, 20)"
            ]
          },
          "metadata": {
            "tags": []
          },
          "execution_count": 16
        }
      ]
    },
    {
      "cell_type": "code",
      "metadata": {
        "id": "ZhfPhZOV4J7h",
        "outputId": "53bfeecf-f6cb-40c7-b507-3f7c76f2fb30",
        "colab": {
          "base_uri": "https://localhost:8080/",
          "height": 34
        }
      },
      "source": [
        "target.shape"
      ],
      "execution_count": null,
      "outputs": [
        {
          "output_type": "execute_result",
          "data": {
            "text/plain": [
              "(41188,)"
            ]
          },
          "metadata": {
            "tags": []
          },
          "execution_count": 17
        }
      ]
    },
    {
      "cell_type": "code",
      "metadata": {
        "id": "K6r2fiGP4Tmj"
      },
      "source": [
        "x_train, x_test, y_train, y_test = train_test_split(df,target, test_size=0.2, random_state=10)\n",
        "x_train, x_valid, y_train, y_valid = train_test_split(x_train, y_train, test_size=0.25, random_state=56)"
      ],
      "execution_count": null,
      "outputs": []
    },
    {
      "cell_type": "code",
      "metadata": {
        "id": "DT1bgzfd4Trb",
        "outputId": "46c1d551-4718-4aa3-d6be-32fb8462c163",
        "colab": {
          "base_uri": "https://localhost:8080/",
          "height": 121
        }
      },
      "source": [
        "print('x_train = ', x_train.shape, '\\ny_train = ', y_train.shape)\n",
        "print('x_test = ', x_test.shape, '\\ny_test = ', y_test.shape)\n",
        "print('x_valid = ', x_valid.shape, '\\ny_valid = ', y_valid.shape)"
      ],
      "execution_count": null,
      "outputs": [
        {
          "output_type": "stream",
          "text": [
            "x_train =  (24712, 20) \n",
            "y_train =  (24712,)\n",
            "x_test =  (8238, 20) \n",
            "y_test =  (8238,)\n",
            "x_valid =  (8238, 20) \n",
            "y_valid =  (8238,)\n"
          ],
          "name": "stdout"
        }
      ]
    },
    {
      "cell_type": "code",
      "metadata": {
        "id": "y1P_2Tcx4TvJ",
        "outputId": "4c06f668-4bdc-47f2-c361-d68b7ece60f0",
        "colab": {
          "base_uri": "https://localhost:8080/",
          "height": 34
        }
      },
      "source": [
        "np.shape(x_train)"
      ],
      "execution_count": null,
      "outputs": [
        {
          "output_type": "execute_result",
          "data": {
            "text/plain": [
              "(24712, 20)"
            ]
          },
          "metadata": {
            "tags": []
          },
          "execution_count": 20
        }
      ]
    },
    {
      "cell_type": "code",
      "metadata": {
        "id": "Jeh6vU614Tpm",
        "outputId": "12174e79-acab-4667-afda-721c97b273b2",
        "colab": {
          "base_uri": "https://localhost:8080/",
          "height": 69
        }
      },
      "source": [
        "x_train = x_train.reshape(x_train.shape[0], x_train.shape[1], 1)\n",
        "x_test = x_test.reshape(x_test.shape[0], x_test.shape[1], 1)\n",
        "x_valid = x_valid.reshape(x_valid.shape[0], x_valid.shape[1], 1)\n",
        "print(x_train.shape)\n",
        "print(x_valid.shape)\n",
        "print(x_test.shape)"
      ],
      "execution_count": null,
      "outputs": [
        {
          "output_type": "stream",
          "text": [
            "(24712, 20, 1)\n",
            "(8238, 20, 1)\n",
            "(8238, 20, 1)\n"
          ],
          "name": "stdout"
        }
      ]
    },
    {
      "cell_type": "code",
      "metadata": {
        "id": "aJajv7DK4TkQ"
      },
      "source": [
        "#x_train = np.reshape(x_train, (x_train.shape[0], 1, x_train.shape[1]))\n",
        "#x_test = np.reshape(x_test, (x_test.shape[0], 1, x_test.shape[1]))\n",
        "#x_valid = np.reshape(x_valid,(x_valid.shape[0], 1, x_valid.shape[1]))"
      ],
      "execution_count": null,
      "outputs": []
    },
    {
      "cell_type": "code",
      "metadata": {
        "id": "qmGtsX9V4eZs"
      },
      "source": [],
      "execution_count": null,
      "outputs": []
    },
    {
      "cell_type": "code",
      "metadata": {
        "id": "TVPF-L3V57_D",
        "outputId": "f4a0ea08-7786-4ec8-9291-ad7eb6c143e8",
        "colab": {
          "base_uri": "https://localhost:8080/",
          "height": 373
        }
      },
      "source": [
        "import tensorflow as tf\n",
        "from tensorflow.keras.models import Sequential\n",
        "from tensorflow.contrib.keras.api.keras import layers\n",
        "from tensorflow.contrib.keras.api.keras.layers import Dense, LSTM, Bidirectional, Flatten\n",
        "from tensorflow.keras.layers import LeakyReLU, BatchNormalization\n",
        "from tensorflow.keras.callbacks import ModelCheckpoint\n",
        "from keras import optimizers"
      ],
      "execution_count": null,
      "outputs": [
        {
          "output_type": "error",
          "ename": "ModuleNotFoundError",
          "evalue": "ignored",
          "traceback": [
            "\u001b[0;31m---------------------------------------------------------------------------\u001b[0m",
            "\u001b[0;31mModuleNotFoundError\u001b[0m                       Traceback (most recent call last)",
            "\u001b[0;32m<ipython-input-1-4a55679b7797>\u001b[0m in \u001b[0;36m<module>\u001b[0;34m()\u001b[0m\n\u001b[1;32m      1\u001b[0m \u001b[0;32mimport\u001b[0m \u001b[0mtensorflow\u001b[0m \u001b[0;32mas\u001b[0m \u001b[0mtf\u001b[0m\u001b[0;34m\u001b[0m\u001b[0;34m\u001b[0m\u001b[0m\n\u001b[1;32m      2\u001b[0m \u001b[0;32mfrom\u001b[0m \u001b[0mtensorflow\u001b[0m\u001b[0;34m.\u001b[0m\u001b[0mkeras\u001b[0m\u001b[0;34m.\u001b[0m\u001b[0mmodels\u001b[0m \u001b[0;32mimport\u001b[0m \u001b[0mSequential\u001b[0m\u001b[0;34m\u001b[0m\u001b[0;34m\u001b[0m\u001b[0m\n\u001b[0;32m----> 3\u001b[0;31m \u001b[0;32mfrom\u001b[0m \u001b[0mtensorflow\u001b[0m\u001b[0;34m.\u001b[0m\u001b[0mcontrib\u001b[0m\u001b[0;34m.\u001b[0m\u001b[0mkeras\u001b[0m\u001b[0;34m.\u001b[0m\u001b[0mapi\u001b[0m\u001b[0;34m.\u001b[0m\u001b[0mkeras\u001b[0m \u001b[0;32mimport\u001b[0m \u001b[0mlayers\u001b[0m\u001b[0;34m\u001b[0m\u001b[0;34m\u001b[0m\u001b[0m\n\u001b[0m\u001b[1;32m      4\u001b[0m \u001b[0;32mfrom\u001b[0m \u001b[0mtensorflow\u001b[0m\u001b[0;34m.\u001b[0m\u001b[0mcontrib\u001b[0m\u001b[0;34m.\u001b[0m\u001b[0mkeras\u001b[0m\u001b[0;34m.\u001b[0m\u001b[0mapi\u001b[0m\u001b[0;34m.\u001b[0m\u001b[0mkeras\u001b[0m\u001b[0;34m.\u001b[0m\u001b[0mlayers\u001b[0m \u001b[0;32mimport\u001b[0m \u001b[0mDense\u001b[0m\u001b[0;34m,\u001b[0m \u001b[0mLSTM\u001b[0m\u001b[0;34m,\u001b[0m \u001b[0mBidirectional\u001b[0m\u001b[0;34m,\u001b[0m \u001b[0mFlatten\u001b[0m\u001b[0;34m\u001b[0m\u001b[0;34m\u001b[0m\u001b[0m\n\u001b[1;32m      5\u001b[0m \u001b[0;32mfrom\u001b[0m \u001b[0mtensorflow\u001b[0m\u001b[0;34m.\u001b[0m\u001b[0mkeras\u001b[0m\u001b[0;34m.\u001b[0m\u001b[0mlayers\u001b[0m \u001b[0;32mimport\u001b[0m \u001b[0mLeakyReLU\u001b[0m\u001b[0;34m,\u001b[0m \u001b[0mBatchNormalization\u001b[0m\u001b[0;34m\u001b[0m\u001b[0;34m\u001b[0m\u001b[0m\n",
            "\u001b[0;31mModuleNotFoundError\u001b[0m: No module named 'tensorflow.contrib'",
            "",
            "\u001b[0;31m---------------------------------------------------------------------------\u001b[0;32m\nNOTE: If your import is failing due to a missing package, you can\nmanually install dependencies using either !pip or !apt.\n\nTo view examples of installing some common dependencies, click the\n\"Open Examples\" button below.\n\u001b[0;31m---------------------------------------------------------------------------\u001b[0m\n"
          ]
        }
      ]
    },
    {
      "cell_type": "code",
      "metadata": {
        "id": "F6QTgiezYnoM"
      },
      "source": [
        "model_new = Sequential()\n",
        "model_new.add(Bidirectional(LSTM(100, return_sequences=True), batch_input_shape=(None,11,48), merge_mode='ave'))\n",
        "model_new.add(BatchNormalization())\n",
        "model_new.add(Bidirectional(LSTM(100, return_sequences=True), batch_input_shape=(None,11,48), merge_mode='ave'))\n",
        "model_new.add(BatchNormalization())\n",
        "model_new.add(Flatten())\n",
        "model_new.add(Dense(100, activation='sigmoid'))\n",
        "model_new.add(BatchNormalization())\n",
        "model_new.add(Dense(32, activation='sigmoid'))\n",
        "model_new.add(BatchNormalization())\n",
        "model_new.add(Dense(2, activation='softmax'))\n",
        "\n",
        "adam=tf.keras.optimizers.Adam( learning_rate=0.001, beta_1=0.9, beta_2=0.999, amsgrad=False)\n",
        "\n",
        "model_new.compile(optimizer=adam, loss='categorical_crossentropy', metrics=['accuracy'])\n",
        "model_new.summary()"
      ],
      "execution_count": null,
      "outputs": []
    },
    {
      "cell_type": "code",
      "metadata": {
        "id": "wxGA03NN4eUX",
        "outputId": "d271b242-7c1d-4592-f4f8-36faf2ca4297",
        "colab": {
          "base_uri": "https://localhost:8080/",
          "height": 225
        }
      },
      "source": [
        "model.summary() "
      ],
      "execution_count": null,
      "outputs": [
        {
          "output_type": "stream",
          "text": [
            "Model: \"sequential_1\"\n",
            "_________________________________________________________________\n",
            "Layer (type)                 Output Shape              Param #   \n",
            "=================================================================\n",
            "lstm_1 (LSTM)                (None, 50)                10400     \n",
            "_________________________________________________________________\n",
            "dense_1 (Dense)              (None, 1)                 51        \n",
            "=================================================================\n",
            "Total params: 10,451\n",
            "Trainable params: 10,451\n",
            "Non-trainable params: 0\n",
            "_________________________________________________________________\n"
          ],
          "name": "stdout"
        }
      ]
    },
    {
      "cell_type": "code",
      "metadata": {
        "id": "zlyFdYeq4Thl",
        "outputId": "3649c1cb-157a-47a3-8236-88834fc41456",
        "colab": {
          "base_uri": "https://localhost:8080/",
          "height": 1000
        }
      },
      "source": [
        "Checkpoint = ModelCheckpoint( 'hist',monitor='acc', \n",
        "                           verbose=1, save_best_only=True, save_weights_only=False, mode='auto', period=1)\n",
        "\n",
        "history=model.fit(x_train, y_train, validation_data=(x_valid, y_valid), epochs=100, callbacks=[Checkpoint], batch_size=256, verbose=1, shuffle=True)\n",
        "# model.fit(x_train, y_train, validation_data=(x_valid, y_valid), epochs=10, batch_size=2048, verbose=1, shuffle=True)\n",
        "# model.save('m.h5')"
      ],
      "execution_count": null,
      "outputs": [
        {
          "output_type": "stream",
          "text": [
            "WARNING:tensorflow:From /usr/local/lib/python3.6/dist-packages/tensorflow_core/python/ops/math_grad.py:1424: where (from tensorflow.python.ops.array_ops) is deprecated and will be removed in a future version.\n",
            "Instructions for updating:\n",
            "Use tf.where in 2.0, which has the same broadcast rule as np.where\n",
            "WARNING:tensorflow:From /usr/local/lib/python3.6/dist-packages/keras/backend/tensorflow_backend.py:1033: The name tf.assign_add is deprecated. Please use tf.compat.v1.assign_add instead.\n",
            "\n",
            "WARNING:tensorflow:From /usr/local/lib/python3.6/dist-packages/keras/backend/tensorflow_backend.py:1020: The name tf.assign is deprecated. Please use tf.compat.v1.assign instead.\n",
            "\n",
            "WARNING:tensorflow:From /usr/local/lib/python3.6/dist-packages/keras/backend/tensorflow_backend.py:3005: The name tf.Session is deprecated. Please use tf.compat.v1.Session instead.\n",
            "\n",
            "Train on 24712 samples, validate on 8238 samples\n",
            "Epoch 1/100\n",
            "WARNING:tensorflow:From /usr/local/lib/python3.6/dist-packages/keras/backend/tensorflow_backend.py:190: The name tf.get_default_session is deprecated. Please use tf.compat.v1.get_default_session instead.\n",
            "\n",
            "WARNING:tensorflow:From /usr/local/lib/python3.6/dist-packages/keras/backend/tensorflow_backend.py:197: The name tf.ConfigProto is deprecated. Please use tf.compat.v1.ConfigProto instead.\n",
            "\n",
            "WARNING:tensorflow:From /usr/local/lib/python3.6/dist-packages/keras/backend/tensorflow_backend.py:207: The name tf.global_variables is deprecated. Please use tf.compat.v1.global_variables instead.\n",
            "\n",
            "WARNING:tensorflow:From /usr/local/lib/python3.6/dist-packages/keras/backend/tensorflow_backend.py:216: The name tf.is_variable_initialized is deprecated. Please use tf.compat.v1.is_variable_initialized instead.\n",
            "\n",
            "WARNING:tensorflow:From /usr/local/lib/python3.6/dist-packages/keras/backend/tensorflow_backend.py:223: The name tf.variables_initializer is deprecated. Please use tf.compat.v1.variables_initializer instead.\n",
            "\n",
            "24712/24712 [==============================] - 5s 203us/step - loss: 0.1338 - acc: 0.8455 - val_loss: 0.0888 - val_acc: 0.8825\n",
            "\n",
            "Epoch 00001: acc improved from -inf to 0.84554, saving model to hist\n",
            "Epoch 2/100\n",
            "24712/24712 [==============================] - 4s 147us/step - loss: 0.0827 - acc: 0.8922 - val_loss: 0.0869 - val_acc: 0.8832\n",
            "\n",
            "Epoch 00002: acc improved from 0.84554 to 0.89220, saving model to hist\n",
            "Epoch 3/100\n",
            "24712/24712 [==============================] - 4s 145us/step - loss: 0.0791 - acc: 0.8972 - val_loss: 0.0735 - val_acc: 0.8988\n",
            "\n",
            "Epoch 00003: acc improved from 0.89220 to 0.89722, saving model to hist\n",
            "Epoch 4/100\n",
            "24712/24712 [==============================] - 4s 142us/step - loss: 0.0662 - acc: 0.9058 - val_loss: 0.0657 - val_acc: 0.9028\n",
            "\n",
            "Epoch 00004: acc improved from 0.89722 to 0.90584, saving model to hist\n",
            "Epoch 5/100\n",
            "24712/24712 [==============================] - 4s 146us/step - loss: 0.0635 - acc: 0.9076 - val_loss: 0.0638 - val_acc: 0.9053\n",
            "\n",
            "Epoch 00005: acc improved from 0.90584 to 0.90762, saving model to hist\n",
            "Epoch 6/100\n",
            "24712/24712 [==============================] - 4s 144us/step - loss: 0.0626 - acc: 0.9092 - val_loss: 0.0634 - val_acc: 0.9069\n",
            "\n",
            "Epoch 00006: acc improved from 0.90762 to 0.90919, saving model to hist\n",
            "Epoch 7/100\n",
            "24712/24712 [==============================] - 4s 145us/step - loss: 0.0634 - acc: 0.9081 - val_loss: 0.0624 - val_acc: 0.9058\n",
            "\n",
            "Epoch 00007: acc did not improve from 0.90919\n",
            "Epoch 8/100\n",
            "24712/24712 [==============================] - 4s 147us/step - loss: 0.0619 - acc: 0.9092 - val_loss: 0.0628 - val_acc: 0.9064\n",
            "\n",
            "Epoch 00008: acc did not improve from 0.90919\n",
            "Epoch 9/100\n",
            "24712/24712 [==============================] - 4s 144us/step - loss: 0.0608 - acc: 0.9095 - val_loss: 0.0618 - val_acc: 0.9090\n",
            "\n",
            "Epoch 00009: acc improved from 0.90919 to 0.90952, saving model to hist\n",
            "Epoch 10/100\n",
            "24712/24712 [==============================] - 4s 150us/step - loss: 0.0616 - acc: 0.9102 - val_loss: 0.0618 - val_acc: 0.9077\n",
            "\n",
            "Epoch 00010: acc improved from 0.90952 to 0.91021, saving model to hist\n",
            "Epoch 11/100\n",
            "24712/24712 [==============================] - 4s 149us/step - loss: 0.0610 - acc: 0.9127 - val_loss: 0.0619 - val_acc: 0.9080\n",
            "\n",
            "Epoch 00011: acc improved from 0.91021 to 0.91267, saving model to hist\n",
            "Epoch 12/100\n",
            "24712/24712 [==============================] - 4s 147us/step - loss: 0.0608 - acc: 0.9124 - val_loss: 0.0615 - val_acc: 0.9080\n",
            "\n",
            "Epoch 00012: acc did not improve from 0.91267\n",
            "Epoch 13/100\n",
            "24712/24712 [==============================] - 4s 147us/step - loss: 0.0601 - acc: 0.9134 - val_loss: 0.0618 - val_acc: 0.9092\n",
            "\n",
            "Epoch 00013: acc improved from 0.91267 to 0.91340, saving model to hist\n",
            "Epoch 14/100\n",
            "24712/24712 [==============================] - 4s 146us/step - loss: 0.0601 - acc: 0.9128 - val_loss: 0.0610 - val_acc: 0.9098\n",
            "\n",
            "Epoch 00014: acc did not improve from 0.91340\n",
            "Epoch 15/100\n",
            "24712/24712 [==============================] - 4s 145us/step - loss: 0.0600 - acc: 0.9149 - val_loss: 0.0606 - val_acc: 0.9124\n",
            "\n",
            "Epoch 00015: acc improved from 0.91340 to 0.91490, saving model to hist\n",
            "Epoch 16/100\n",
            "24712/24712 [==============================] - 4s 149us/step - loss: 0.0597 - acc: 0.9148 - val_loss: 0.0617 - val_acc: 0.9092\n",
            "\n",
            "Epoch 00016: acc did not improve from 0.91490\n",
            "Epoch 17/100\n",
            "24712/24712 [==============================] - 4s 148us/step - loss: 0.0598 - acc: 0.9144 - val_loss: 0.0634 - val_acc: 0.9092\n",
            "\n",
            "Epoch 00017: acc did not improve from 0.91490\n",
            "Epoch 18/100\n",
            "24712/24712 [==============================] - 4s 150us/step - loss: 0.0598 - acc: 0.9144 - val_loss: 0.0628 - val_acc: 0.9062\n",
            "\n",
            "Epoch 00018: acc did not improve from 0.91490\n",
            "Epoch 19/100\n",
            "24712/24712 [==============================] - 4s 149us/step - loss: 0.0598 - acc: 0.9139 - val_loss: 0.0611 - val_acc: 0.9092\n",
            "\n",
            "Epoch 00019: acc did not improve from 0.91490\n",
            "Epoch 20/100\n",
            "24712/24712 [==============================] - 4s 147us/step - loss: 0.0593 - acc: 0.9128 - val_loss: 0.0605 - val_acc: 0.9108\n",
            "\n",
            "Epoch 00020: acc did not improve from 0.91490\n",
            "Epoch 21/100\n",
            "24712/24712 [==============================] - 4s 147us/step - loss: 0.0599 - acc: 0.9130 - val_loss: 0.0611 - val_acc: 0.9101\n",
            "\n",
            "Epoch 00021: acc did not improve from 0.91490\n",
            "Epoch 22/100\n",
            "24712/24712 [==============================] - 4s 148us/step - loss: 0.0593 - acc: 0.9146 - val_loss: 0.0639 - val_acc: 0.9085\n",
            "\n",
            "Epoch 00022: acc did not improve from 0.91490\n",
            "Epoch 23/100\n",
            "24712/24712 [==============================] - 4s 149us/step - loss: 0.0595 - acc: 0.9145 - val_loss: 0.0611 - val_acc: 0.9097\n",
            "\n",
            "Epoch 00023: acc did not improve from 0.91490\n",
            "Epoch 24/100\n",
            "24712/24712 [==============================] - 4s 148us/step - loss: 0.0593 - acc: 0.9141 - val_loss: 0.0609 - val_acc: 0.9099\n",
            "\n",
            "Epoch 00024: acc did not improve from 0.91490\n",
            "Epoch 25/100\n",
            "24712/24712 [==============================] - 4s 150us/step - loss: 0.0593 - acc: 0.9138 - val_loss: 0.0606 - val_acc: 0.9084\n",
            "\n",
            "Epoch 00025: acc did not improve from 0.91490\n",
            "Epoch 26/100\n",
            "24712/24712 [==============================] - 4s 147us/step - loss: 0.0591 - acc: 0.9140 - val_loss: 0.0602 - val_acc: 0.9118\n",
            "\n",
            "Epoch 00026: acc did not improve from 0.91490\n",
            "Epoch 27/100\n",
            "24712/24712 [==============================] - 4s 149us/step - loss: 0.0592 - acc: 0.9145 - val_loss: 0.0609 - val_acc: 0.9104\n",
            "\n",
            "Epoch 00027: acc did not improve from 0.91490\n",
            "Epoch 28/100\n",
            "24712/24712 [==============================] - 4s 149us/step - loss: 0.0586 - acc: 0.9154 - val_loss: 0.0605 - val_acc: 0.9088\n",
            "\n",
            "Epoch 00028: acc improved from 0.91490 to 0.91539, saving model to hist\n",
            "Epoch 29/100\n",
            "24712/24712 [==============================] - 4s 147us/step - loss: 0.0587 - acc: 0.9153 - val_loss: 0.0601 - val_acc: 0.9098\n",
            "\n",
            "Epoch 00029: acc did not improve from 0.91539\n",
            "Epoch 30/100\n",
            "24712/24712 [==============================] - 4s 149us/step - loss: 0.0590 - acc: 0.9147 - val_loss: 0.0604 - val_acc: 0.9118\n",
            "\n",
            "Epoch 00030: acc did not improve from 0.91539\n",
            "Epoch 31/100\n",
            "24712/24712 [==============================] - 4s 146us/step - loss: 0.0585 - acc: 0.9146 - val_loss: 0.0607 - val_acc: 0.9088\n",
            "\n",
            "Epoch 00031: acc did not improve from 0.91539\n",
            "Epoch 32/100\n",
            "24712/24712 [==============================] - 4s 147us/step - loss: 0.0584 - acc: 0.9140 - val_loss: 0.0602 - val_acc: 0.9099\n",
            "\n",
            "Epoch 00032: acc did not improve from 0.91539\n",
            "Epoch 33/100\n",
            "24712/24712 [==============================] - 4s 149us/step - loss: 0.0590 - acc: 0.9150 - val_loss: 0.0600 - val_acc: 0.9113\n",
            "\n",
            "Epoch 00033: acc did not improve from 0.91539\n",
            "Epoch 34/100\n",
            "24712/24712 [==============================] - 4s 148us/step - loss: 0.0585 - acc: 0.9155 - val_loss: 0.0605 - val_acc: 0.9101\n",
            "\n",
            "Epoch 00034: acc improved from 0.91539 to 0.91547, saving model to hist\n",
            "Epoch 35/100\n",
            "24712/24712 [==============================] - 4s 149us/step - loss: 0.0586 - acc: 0.9151 - val_loss: 0.0598 - val_acc: 0.9098\n",
            "\n",
            "Epoch 00035: acc did not improve from 0.91547\n",
            "Epoch 36/100\n",
            "24712/24712 [==============================] - 4s 150us/step - loss: 0.0585 - acc: 0.9155 - val_loss: 0.0617 - val_acc: 0.9098\n",
            "\n",
            "Epoch 00036: acc improved from 0.91547 to 0.91551, saving model to hist\n",
            "Epoch 37/100\n",
            "24712/24712 [==============================] - 4s 146us/step - loss: 0.0584 - acc: 0.9157 - val_loss: 0.0604 - val_acc: 0.9101\n",
            "\n",
            "Epoch 00037: acc improved from 0.91551 to 0.91575, saving model to hist\n",
            "Epoch 38/100\n",
            "24712/24712 [==============================] - 4s 146us/step - loss: 0.0585 - acc: 0.9147 - val_loss: 0.0605 - val_acc: 0.9094\n",
            "\n",
            "Epoch 00038: acc did not improve from 0.91575\n",
            "Epoch 39/100\n",
            "24712/24712 [==============================] - 4s 150us/step - loss: 0.0580 - acc: 0.9153 - val_loss: 0.0602 - val_acc: 0.9102\n",
            "\n",
            "Epoch 00039: acc did not improve from 0.91575\n",
            "Epoch 40/100\n",
            "24712/24712 [==============================] - 4s 146us/step - loss: 0.0580 - acc: 0.9144 - val_loss: 0.0597 - val_acc: 0.9087\n",
            "\n",
            "Epoch 00040: acc did not improve from 0.91575\n",
            "Epoch 41/100\n",
            "24712/24712 [==============================] - 4s 148us/step - loss: 0.0581 - acc: 0.9152 - val_loss: 0.0604 - val_acc: 0.9088\n",
            "\n",
            "Epoch 00041: acc did not improve from 0.91575\n",
            "Epoch 42/100\n",
            "24712/24712 [==============================] - 4s 148us/step - loss: 0.0578 - acc: 0.9154 - val_loss: 0.0604 - val_acc: 0.9077\n",
            "\n",
            "Epoch 00042: acc did not improve from 0.91575\n",
            "Epoch 43/100\n",
            "24712/24712 [==============================] - 4s 148us/step - loss: 0.0577 - acc: 0.9149 - val_loss: 0.0606 - val_acc: 0.9077\n",
            "\n",
            "Epoch 00043: acc did not improve from 0.91575\n",
            "Epoch 44/100\n",
            "24712/24712 [==============================] - 4s 146us/step - loss: 0.0579 - acc: 0.9150 - val_loss: 0.0603 - val_acc: 0.9093\n",
            "\n",
            "Epoch 00044: acc did not improve from 0.91575\n",
            "Epoch 45/100\n",
            "24712/24712 [==============================] - 4s 147us/step - loss: 0.0573 - acc: 0.9163 - val_loss: 0.0595 - val_acc: 0.9116\n",
            "\n",
            "Epoch 00045: acc improved from 0.91575 to 0.91632, saving model to hist\n",
            "Epoch 46/100\n",
            "24712/24712 [==============================] - 4s 147us/step - loss: 0.0572 - acc: 0.9161 - val_loss: 0.0616 - val_acc: 0.9090\n",
            "\n",
            "Epoch 00046: acc did not improve from 0.91632\n",
            "Epoch 47/100\n",
            "24712/24712 [==============================] - 4s 149us/step - loss: 0.0569 - acc: 0.9157 - val_loss: 0.0594 - val_acc: 0.9105\n",
            "\n",
            "Epoch 00047: acc did not improve from 0.91632\n",
            "Epoch 48/100\n",
            "24712/24712 [==============================] - 4s 152us/step - loss: 0.0570 - acc: 0.9161 - val_loss: 0.0602 - val_acc: 0.9101\n",
            "\n",
            "Epoch 00048: acc did not improve from 0.91632\n",
            "Epoch 49/100\n",
            "24712/24712 [==============================] - 4s 149us/step - loss: 0.0565 - acc: 0.9153 - val_loss: 0.0599 - val_acc: 0.9096\n",
            "\n",
            "Epoch 00049: acc did not improve from 0.91632\n",
            "Epoch 50/100\n",
            "24712/24712 [==============================] - 4s 150us/step - loss: 0.0568 - acc: 0.9153 - val_loss: 0.0612 - val_acc: 0.9091\n",
            "\n",
            "Epoch 00050: acc did not improve from 0.91632\n",
            "Epoch 51/100\n",
            "24712/24712 [==============================] - 4s 148us/step - loss: 0.0570 - acc: 0.9160 - val_loss: 0.0599 - val_acc: 0.9087\n",
            "\n",
            "Epoch 00051: acc did not improve from 0.91632\n",
            "Epoch 52/100\n",
            "24712/24712 [==============================] - 4s 149us/step - loss: 0.0573 - acc: 0.9165 - val_loss: 0.0632 - val_acc: 0.9124\n",
            "\n",
            "Epoch 00052: acc improved from 0.91632 to 0.91648, saving model to hist\n",
            "Epoch 53/100\n",
            "24712/24712 [==============================] - 4s 149us/step - loss: 0.0567 - acc: 0.9170 - val_loss: 0.0596 - val_acc: 0.9104\n",
            "\n",
            "Epoch 00053: acc improved from 0.91648 to 0.91696, saving model to hist\n",
            "Epoch 54/100\n",
            "24712/24712 [==============================] - 4s 146us/step - loss: 0.0564 - acc: 0.9166 - val_loss: 0.0600 - val_acc: 0.9121\n",
            "\n",
            "Epoch 00054: acc did not improve from 0.91696\n",
            "Epoch 55/100\n",
            "24712/24712 [==============================] - 4s 150us/step - loss: 0.0566 - acc: 0.9176 - val_loss: 0.0610 - val_acc: 0.9084\n",
            "\n",
            "Epoch 00055: acc improved from 0.91696 to 0.91761, saving model to hist\n",
            "Epoch 56/100\n",
            "24712/24712 [==============================] - 4s 155us/step - loss: 0.0560 - acc: 0.9173 - val_loss: 0.0599 - val_acc: 0.9109\n",
            "\n",
            "Epoch 00056: acc did not improve from 0.91761\n",
            "Epoch 57/100\n",
            "24712/24712 [==============================] - 4s 149us/step - loss: 0.0563 - acc: 0.9184 - val_loss: 0.0599 - val_acc: 0.9093\n",
            "\n",
            "Epoch 00057: acc improved from 0.91761 to 0.91838, saving model to hist\n",
            "Epoch 58/100\n",
            "24712/24712 [==============================] - 4s 146us/step - loss: 0.0564 - acc: 0.9174 - val_loss: 0.0600 - val_acc: 0.9120\n",
            "\n",
            "Epoch 00058: acc did not improve from 0.91838\n",
            "Epoch 59/100\n",
            "24712/24712 [==============================] - 4s 147us/step - loss: 0.0563 - acc: 0.9166 - val_loss: 0.0595 - val_acc: 0.9136\n",
            "\n",
            "Epoch 00059: acc did not improve from 0.91838\n",
            "Epoch 60/100\n",
            "24712/24712 [==============================] - 4s 148us/step - loss: 0.0557 - acc: 0.9172 - val_loss: 0.0594 - val_acc: 0.9113\n",
            "\n",
            "Epoch 00060: acc did not improve from 0.91838\n",
            "Epoch 61/100\n",
            "24712/24712 [==============================] - 4s 146us/step - loss: 0.0560 - acc: 0.9170 - val_loss: 0.0597 - val_acc: 0.9120\n",
            "\n",
            "Epoch 00061: acc did not improve from 0.91838\n",
            "Epoch 62/100\n",
            "24712/24712 [==============================] - 4s 148us/step - loss: 0.0562 - acc: 0.9173 - val_loss: 0.0639 - val_acc: 0.9087\n",
            "\n",
            "Epoch 00062: acc did not improve from 0.91838\n",
            "Epoch 63/100\n",
            "24712/24712 [==============================] - 4s 146us/step - loss: 0.0562 - acc: 0.9171 - val_loss: 0.0593 - val_acc: 0.9124\n",
            "\n",
            "Epoch 00063: acc did not improve from 0.91838\n",
            "Epoch 64/100\n",
            "24712/24712 [==============================] - 4s 147us/step - loss: 0.0555 - acc: 0.9183 - val_loss: 0.0603 - val_acc: 0.9119\n",
            "\n",
            "Epoch 00064: acc did not improve from 0.91838\n",
            "Epoch 65/100\n",
            "24712/24712 [==============================] - 4s 147us/step - loss: 0.0556 - acc: 0.9182 - val_loss: 0.0592 - val_acc: 0.9110\n",
            "\n",
            "Epoch 00065: acc did not improve from 0.91838\n",
            "Epoch 66/100\n",
            "24712/24712 [==============================] - 4s 147us/step - loss: 0.0556 - acc: 0.9196 - val_loss: 0.0631 - val_acc: 0.9076\n",
            "\n",
            "Epoch 00066: acc improved from 0.91838 to 0.91955, saving model to hist\n",
            "Epoch 67/100\n",
            "24712/24712 [==============================] - 4s 147us/step - loss: 0.0562 - acc: 0.9167 - val_loss: 0.0595 - val_acc: 0.9124\n",
            "\n",
            "Epoch 00067: acc did not improve from 0.91955\n",
            "Epoch 68/100\n",
            "24712/24712 [==============================] - 4s 146us/step - loss: 0.0554 - acc: 0.9184 - val_loss: 0.0592 - val_acc: 0.9113\n",
            "\n",
            "Epoch 00068: acc did not improve from 0.91955\n",
            "Epoch 69/100\n",
            "24712/24712 [==============================] - 4s 146us/step - loss: 0.0559 - acc: 0.9179 - val_loss: 0.0592 - val_acc: 0.9097\n",
            "\n",
            "Epoch 00069: acc did not improve from 0.91955\n",
            "Epoch 70/100\n",
            "24712/24712 [==============================] - 4s 146us/step - loss: 0.0558 - acc: 0.9177 - val_loss: 0.0590 - val_acc: 0.9104\n",
            "\n",
            "Epoch 00070: acc did not improve from 0.91955\n",
            "Epoch 71/100\n",
            "24712/24712 [==============================] - 4s 146us/step - loss: 0.0554 - acc: 0.9180 - val_loss: 0.0618 - val_acc: 0.9082\n",
            "\n",
            "Epoch 00071: acc did not improve from 0.91955\n",
            "Epoch 72/100\n",
            "24712/24712 [==============================] - 4s 145us/step - loss: 0.0558 - acc: 0.9179 - val_loss: 0.0598 - val_acc: 0.9105\n",
            "\n",
            "Epoch 00072: acc did not improve from 0.91955\n",
            "Epoch 73/100\n",
            "24712/24712 [==============================] - 4s 147us/step - loss: 0.0553 - acc: 0.9179 - val_loss: 0.0592 - val_acc: 0.9108\n",
            "\n",
            "Epoch 00073: acc did not improve from 0.91955\n",
            "Epoch 74/100\n",
            "24712/24712 [==============================] - 4s 143us/step - loss: 0.0556 - acc: 0.9181 - val_loss: 0.0605 - val_acc: 0.9099\n",
            "\n",
            "Epoch 00074: acc did not improve from 0.91955\n",
            "Epoch 75/100\n",
            "24712/24712 [==============================] - 4s 146us/step - loss: 0.0556 - acc: 0.9186 - val_loss: 0.0607 - val_acc: 0.9079\n",
            "\n",
            "Epoch 00075: acc did not improve from 0.91955\n",
            "Epoch 76/100\n",
            "24712/24712 [==============================] - 4s 148us/step - loss: 0.0551 - acc: 0.9192 - val_loss: 0.0592 - val_acc: 0.9124\n",
            "\n",
            "Epoch 00076: acc did not improve from 0.91955\n",
            "Epoch 77/100\n",
            "24712/24712 [==============================] - 4s 146us/step - loss: 0.0549 - acc: 0.9198 - val_loss: 0.0596 - val_acc: 0.9103\n",
            "\n",
            "Epoch 00077: acc improved from 0.91955 to 0.91984, saving model to hist\n",
            "Epoch 78/100\n",
            "24712/24712 [==============================] - 4s 145us/step - loss: 0.0549 - acc: 0.9191 - val_loss: 0.0594 - val_acc: 0.9136\n",
            "\n",
            "Epoch 00078: acc did not improve from 0.91984\n",
            "Epoch 79/100\n",
            "24712/24712 [==============================] - 4s 147us/step - loss: 0.0546 - acc: 0.9191 - val_loss: 0.0591 - val_acc: 0.9115\n",
            "\n",
            "Epoch 00079: acc did not improve from 0.91984\n",
            "Epoch 80/100\n",
            "24712/24712 [==============================] - 4s 145us/step - loss: 0.0547 - acc: 0.9195 - val_loss: 0.0610 - val_acc: 0.9122\n",
            "\n",
            "Epoch 00080: acc did not improve from 0.91984\n",
            "Epoch 81/100\n",
            "24712/24712 [==============================] - 4s 145us/step - loss: 0.0555 - acc: 0.9186 - val_loss: 0.0592 - val_acc: 0.9108\n",
            "\n",
            "Epoch 00081: acc did not improve from 0.91984\n",
            "Epoch 82/100\n",
            "24712/24712 [==============================] - 4s 147us/step - loss: 0.0553 - acc: 0.9195 - val_loss: 0.0602 - val_acc: 0.9115\n",
            "\n",
            "Epoch 00082: acc did not improve from 0.91984\n",
            "Epoch 83/100\n",
            "24712/24712 [==============================] - 4s 145us/step - loss: 0.0550 - acc: 0.9203 - val_loss: 0.0602 - val_acc: 0.9107\n",
            "\n",
            "Epoch 00083: acc improved from 0.91984 to 0.92028, saving model to hist\n",
            "Epoch 84/100\n",
            "24712/24712 [==============================] - 4s 143us/step - loss: 0.0546 - acc: 0.9191 - val_loss: 0.0592 - val_acc: 0.9113\n",
            "\n",
            "Epoch 00084: acc did not improve from 0.92028\n",
            "Epoch 85/100\n",
            "24712/24712 [==============================] - 4s 147us/step - loss: 0.0548 - acc: 0.9202 - val_loss: 0.0599 - val_acc: 0.9109\n",
            "\n",
            "Epoch 00085: acc did not improve from 0.92028\n",
            "Epoch 86/100\n",
            "24712/24712 [==============================] - 4s 145us/step - loss: 0.0548 - acc: 0.9197 - val_loss: 0.0622 - val_acc: 0.9090\n",
            "\n",
            "Epoch 00086: acc did not improve from 0.92028\n",
            "Epoch 87/100\n",
            "24712/24712 [==============================] - 4s 146us/step - loss: 0.0554 - acc: 0.9194 - val_loss: 0.0597 - val_acc: 0.9102\n",
            "\n",
            "Epoch 00087: acc did not improve from 0.92028\n",
            "Epoch 88/100\n",
            "24712/24712 [==============================] - 4s 147us/step - loss: 0.0545 - acc: 0.9199 - val_loss: 0.0617 - val_acc: 0.9093\n",
            "\n",
            "Epoch 00088: acc did not improve from 0.92028\n",
            "Epoch 89/100\n",
            "24712/24712 [==============================] - 4s 143us/step - loss: 0.0546 - acc: 0.9207 - val_loss: 0.0626 - val_acc: 0.9090\n",
            "\n",
            "Epoch 00089: acc improved from 0.92028 to 0.92069, saving model to hist\n",
            "Epoch 90/100\n",
            "24712/24712 [==============================] - 4s 146us/step - loss: 0.0550 - acc: 0.9198 - val_loss: 0.0635 - val_acc: 0.9080\n",
            "\n",
            "Epoch 00090: acc did not improve from 0.92069\n",
            "Epoch 91/100\n",
            "24712/24712 [==============================] - 4s 146us/step - loss: 0.0548 - acc: 0.9196 - val_loss: 0.0590 - val_acc: 0.9104\n",
            "\n",
            "Epoch 00091: acc did not improve from 0.92069\n",
            "Epoch 92/100\n",
            "24712/24712 [==============================] - 4s 142us/step - loss: 0.0542 - acc: 0.9209 - val_loss: 0.0590 - val_acc: 0.9119\n",
            "\n",
            "Epoch 00092: acc improved from 0.92069 to 0.92089, saving model to hist\n",
            "Epoch 93/100\n",
            "24712/24712 [==============================] - 4s 145us/step - loss: 0.0540 - acc: 0.9208 - val_loss: 0.0603 - val_acc: 0.9110\n",
            "\n",
            "Epoch 00093: acc did not improve from 0.92089\n",
            "Epoch 94/100\n",
            "24712/24712 [==============================] - 4s 147us/step - loss: 0.0540 - acc: 0.9215 - val_loss: 0.0602 - val_acc: 0.9116\n",
            "\n",
            "Epoch 00094: acc improved from 0.92089 to 0.92146, saving model to hist\n",
            "Epoch 95/100\n",
            "24712/24712 [==============================] - 4s 145us/step - loss: 0.0541 - acc: 0.9218 - val_loss: 0.0590 - val_acc: 0.9120\n",
            "\n",
            "Epoch 00095: acc improved from 0.92146 to 0.92178, saving model to hist\n",
            "Epoch 96/100\n",
            "24712/24712 [==============================] - 4s 150us/step - loss: 0.0545 - acc: 0.9205 - val_loss: 0.0612 - val_acc: 0.9103\n",
            "\n",
            "Epoch 00096: acc did not improve from 0.92178\n",
            "Epoch 97/100\n",
            "24712/24712 [==============================] - 4s 149us/step - loss: 0.0538 - acc: 0.9215 - val_loss: 0.0593 - val_acc: 0.9133\n",
            "\n",
            "Epoch 00097: acc did not improve from 0.92178\n",
            "Epoch 98/100\n",
            "24712/24712 [==============================] - 4s 148us/step - loss: 0.0541 - acc: 0.9209 - val_loss: 0.0597 - val_acc: 0.9093\n",
            "\n",
            "Epoch 00098: acc did not improve from 0.92178\n",
            "Epoch 99/100\n",
            "24712/24712 [==============================] - 4s 147us/step - loss: 0.0538 - acc: 0.9226 - val_loss: 0.0602 - val_acc: 0.9108\n",
            "\n",
            "Epoch 00099: acc improved from 0.92178 to 0.92259, saving model to hist\n",
            "Epoch 100/100\n",
            "24712/24712 [==============================] - 4s 146us/step - loss: 0.0540 - acc: 0.9207 - val_loss: 0.0618 - val_acc: 0.9079\n",
            "\n",
            "Epoch 00100: acc did not improve from 0.92259\n"
          ],
          "name": "stdout"
        }
      ]
    },
    {
      "cell_type": "code",
      "metadata": {
        "id": "UzGpXE8P9rzA"
      },
      "source": [
        "from keras.models import load_model\n",
        "\n",
        "model = load_model('hist') "
      ],
      "execution_count": null,
      "outputs": []
    },
    {
      "cell_type": "code",
      "metadata": {
        "id": "83mNh170-TtR",
        "outputId": "af037929-6ac5-4a00-c7a5-ff91ea38b610",
        "colab": {
          "base_uri": "https://localhost:8080/",
          "height": 265
        }
      },
      "source": [
        "plt.plot(history.history['loss'])\n",
        "plt.show()"
      ],
      "execution_count": null,
      "outputs": [
        {
          "output_type": "display_data",
          "data": {
            "image/png": "[encoded data removed]",
            "text/plain": [
              "<Figure size 432x288 with 1 Axes>"
            ]
          },
          "metadata": {
            "tags": []
          }
        }
      ]
    },
    {
      "cell_type": "code",
      "metadata": {
        "id": "tDM-oEMR_zIQ"
      },
      "source": [
        "import math\n",
        "from sklearn.metrics import mean_squared_error"
      ],
      "execution_count": null,
      "outputs": []
    },
    {
      "cell_type": "code",
      "metadata": {
        "id": "g7TgzdUY-Ndb"
      },
      "source": [
        "# make predictions\n",
        "\n",
        "y_pred = model.predict(x_train)"
      ],
      "execution_count": null,
      "outputs": []
    },
    {
      "cell_type": "code",
      "metadata": {
        "id": "tvRia2VjHAsh",
        "outputId": "43953f63-2bc2-48fb-e2e9-44eed6eb9cc0",
        "colab": {
          "base_uri": "https://localhost:8080/",
          "height": 34
        }
      },
      "source": [
        "print (y_train.shape , y_pred.shape)"
      ],
      "execution_count": null,
      "outputs": [
        {
          "output_type": "stream",
          "text": [
            "(24712,) (24712, 1)\n"
          ],
          "name": "stdout"
        }
      ]
    },
    {
      "cell_type": "code",
      "metadata": {
        "id": "YoLoKhPSq5Uo"
      },
      "source": [
        "from sklearn.preprocessing import Binarizer\n",
        "transformer = Binarizer().fit(y_pred)  # fit does nothing.\n",
        "transformer\n",
        "y_pred=transformer.transform(y_pred)"
      ],
      "execution_count": null,
      "outputs": []
    },
    {
      "cell_type": "code",
      "metadata": {
        "id": "7m7FIXpFuR14"
      },
      "source": [],
      "execution_count": null,
      "outputs": []
    },
    {
      "cell_type": "code",
      "metadata": {
        "id": "vc9RNbBYIz1b",
        "outputId": "bd8acc3e-a695-4968-88ac-ac18d913955f",
        "colab": {
          "base_uri": "https://localhost:8080/",
          "height": 34
        }
      },
      "source": [
        "import sklearn.metrics as metrics \n",
        "from sklearn.metrics import accuracy_score\n",
        "# Print the prediction accuracy\n",
        "print (metrics.accuracy_score(y_train, y_pred))"
      ],
      "execution_count": null,
      "outputs": [
        {
          "output_type": "stream",
          "text": [
            "0.5937601165425704\n"
          ],
          "name": "stdout"
        }
      ]
    },
    {
      "cell_type": "code",
      "metadata": {
        "id": "6ugO5MazA26T",
        "outputId": "00a79f15-3554-4deb-b0d9-0421e29f63e2",
        "colab": {
          "base_uri": "https://localhost:8080/",
          "height": 173
        }
      },
      "source": [
        "print(classification_report(y_train, y_pred))"
      ],
      "execution_count": null,
      "outputs": [
        {
          "output_type": "stream",
          "text": [
            "              precision    recall  f1-score   support\n",
            "\n",
            "           0       1.00      0.54      0.70     21959\n",
            "           1       0.21      0.99      0.35      2753\n",
            "\n",
            "    accuracy                           0.59     24712\n",
            "   macro avg       0.61      0.77      0.53     24712\n",
            "weighted avg       0.91      0.59      0.66     24712\n",
            "\n"
          ],
          "name": "stdout"
        }
      ]
    },
    {
      "cell_type": "code",
      "metadata": {
        "id": "RVrlmbWiJkE3"
      },
      "source": [
        "from sklearn.metrics import roc_curve, auc"
      ],
      "execution_count": null,
      "outputs": []
    },
    {
      "cell_type": "code",
      "metadata": {
        "id": "tX126SjxJmqZ",
        "outputId": "e40fafbb-2b71-440f-f78a-e14f124a6b98",
        "colab": {
          "base_uri": "https://localhost:8080/",
          "height": 350
        }
      },
      "source": [
        "# calculate the fpr and tpr for all thresholds of the classification\n",
        "probs = model.predict_proba(x_test)\n",
        "preds = probs \n",
        "fpr, tpr, threshold = metrics.roc_curve(y_test, preds)\n",
        "roc_auc = metrics.auc(fpr, tpr)\n",
        "\n",
        "# method I: plt\n",
        "import matplotlib.pyplot as plt\n",
        "plt.title('Receiver Operating Characteristic')\n",
        "plt.plot(fpr, tpr, 'b', label = 'AUC = %0.2f' % roc_auc)\n",
        "plt.legend(loc = 'lower right')\n",
        "plt.plot([0, 1], [0, 1],'r--')\n",
        "plt.xlim([0, 1])\n",
        "plt.ylim([0, 1])\n",
        "plt.ylabel('True Positive Rate')\n",
        "plt.xlabel('False Positive Rate')\n",
        "plt.show()\n"
      ],
      "execution_count": null,
      "outputs": [
        {
          "output_type": "stream",
          "text": [
            "/usr/local/lib/python3.6/dist-packages/keras/engine/sequential.py:248: UserWarning: Network returning invalid probability values. The last layer might not normalize predictions into probabilities (like softmax or sigmoid would).\n",
            "  warnings.warn('Network returning invalid probability values. '\n"
          ],
          "name": "stderr"
        },
        {
          "output_type": "display_data",
          "data": {
            "image/png": "[encoded data removed]",
            "text/plain": [
              "<Figure size 432x288 with 1 Axes>"
            ]
          },
          "metadata": {
            "tags": []
          }
        }
      ]
    },
    {
      "cell_type": "code",
      "metadata": {
        "id": "SZmVe8nCp5GV"
      },
      "source": [],
      "execution_count": null,
      "outputs": []
    }
  ]
}